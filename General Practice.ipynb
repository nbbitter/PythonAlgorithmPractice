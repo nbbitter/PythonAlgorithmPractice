{
 "cells": [
  {
   "cell_type": "markdown",
   "metadata": {},
   "source": [
    "1. Write a program which will find all such numbers which are divisible by 7 but are not a multiple of 5, between 2000 and 3200 (both included). Numbers obtained should be printed in a comma-separated sequence on a single line."
   ]
  },
  {
   "cell_type": "code",
   "execution_count": 73,
   "metadata": {},
   "outputs": [
    {
     "data": {
      "text/plain": [
       "['2002', '2009', '2016', '2023', '2037']"
      ]
     },
     "execution_count": 73,
     "metadata": {},
     "output_type": "execute_result"
    }
   ],
   "source": [
    "numbs=[]\n",
    "for i in range(2000,3201):\n",
    "    if i %7==0 and i%5!=0:\n",
    "        numbs.append(str(i))\n",
    "numbs[0:5]   "
   ]
  },
  {
   "cell_type": "markdown",
   "metadata": {},
   "source": [
    "2. With a given integral number n, write a program to generate a dictionary that contains (i, i*i) such that is an integral number between 1 and n (both included). and then the program should print the dictionary. Suppose the following input is supplied to the program:8  Then, the output should be: {1: 1, 2: 4, 3: 9, 4: 16, 5: 25, 6: 36, 7: 49, 8: 64}"
   ]
  },
  {
   "cell_type": "code",
   "execution_count": 13,
   "metadata": {},
   "outputs": [
    {
     "data": {
      "text/plain": [
       "{1: 1, 2: 4, 3: 9, 4: 16, 5: 25, 6: 36, 7: 49}"
      ]
     },
     "execution_count": 13,
     "metadata": {},
     "output_type": "execute_result"
    }
   ],
   "source": [
    "d=dict()\n",
    "n=8\n",
    "for i in range(1,n):\n",
    "    d[i]=i**2\n",
    "d"
   ]
  },
  {
   "cell_type": "markdown",
   "metadata": {},
   "source": [
    "3. Define a class which has at least two methods: getString: to get a string from console input printString: to print the string in upper case. Also please include simple test function to test the class methods."
   ]
  },
  {
   "cell_type": "code",
   "execution_count": 22,
   "metadata": {},
   "outputs": [
    {
     "name": "stdout",
     "output_type": "stream",
     "text": [
      "ERHGOIRE\n"
     ]
    }
   ],
   "source": [
    "class InputoutString(object):\n",
    "    def _init_(self):\n",
    "        self.s=\"\"\n",
    "    def get_string(self):\n",
    "        self.s=str('erhgoire')\n",
    "        \n",
    "    def printString(self):\n",
    "        print(self.s.upper())\n",
    "\n",
    "strObj=InputoutString()\n",
    "strObj.get_string()\n",
    "strObj.printString()"
   ]
  },
  {
   "cell_type": "markdown",
   "metadata": {},
   "source": [
    "4. Write a program that calculates and prints the value according to the given formula: Q = Square root of [(2 * C * D)/H] Following are the fixed values of C and H: C is 50. H is 30. D is the variable whose values should be input to your program in a comma-separated sequence. \n",
    "\n",
    "\n",
    "Example\n",
    "Let us assume the following comma separated input sequence is given to the program:\n",
    "100,150,180\n",
    "The output of the program should be:\n",
    "18,22,24"
   ]
  },
  {
   "cell_type": "code",
   "execution_count": 28,
   "metadata": {},
   "outputs": [
    {
     "name": "stdout",
     "output_type": "stream",
     "text": [
      "[18, 22, 24]\n"
     ]
    }
   ],
   "source": [
    "import math\n",
    "C=50\n",
    "H=30\n",
    "values=[100,150,180]\n",
    "\n",
    "output=[]\n",
    "for i in values:\n",
    "    output.append(round(math.sqrt((2*C*i)/H)))\n",
    "print(output)"
   ]
  },
  {
   "cell_type": "markdown",
   "metadata": {},
   "source": [
    "5. Write a program which takes 2 digits, X,Y as input and generates a 2-dimensional array. The element value in the i-th row and j-th column of the array should be i*j. Note: i=0,1.., X-1; j=0,1,¡­Y-1.\n",
    "\n",
    "Example\n",
    "Suppose the following inputs are given to the program:\n",
    "3,5\n",
    "Then, the output of the program should be:\n",
    "[[0, 0, 0, 0, 0], [0, 1, 2, 3, 4], [0, 2, 4, 6, 8]] "
   ]
  },
  {
   "cell_type": "code",
   "execution_count": 36,
   "metadata": {},
   "outputs": [
    {
     "data": {
      "text/plain": [
       "[[0, 0, 0, 0, 0], [0, 1, 2, 3, 4], [0, 2, 4, 6, 8]]"
      ]
     },
     "execution_count": 36,
     "metadata": {},
     "output_type": "execute_result"
    }
   ],
   "source": [
    "array_number=3\n",
    "array_length=5\n",
    "multilist = [[0 for col in range(array_length)] for row in range(array_number)] ## assigning dimensions\n",
    "for a in range(array_number):\n",
    "    for b in range(array_length):\n",
    "        multilist[a][b]= a*b\n",
    "multilist"
   ]
  },
  {
   "cell_type": "markdown",
   "metadata": {},
   "source": [
    "Find max valid in a list without using max"
   ]
  },
  {
   "cell_type": "code",
   "execution_count": 95,
   "metadata": {},
   "outputs": [
    {
     "data": {
      "text/plain": [
       "83"
      ]
     },
     "execution_count": 95,
     "metadata": {},
     "output_type": "execute_result"
    }
   ],
   "source": [
    "values=[4,5,5,6,83,7,8]\n",
    "j=[]\n",
    "#1. think of how to do this manually in a step wise mannor\n",
    "# select first element of the list and then iterate though it. \n",
    "# If any other element is bigger than the first than simply select that and resassign\n",
    "\n",
    "def find_max(val):\n",
    "    m=val[0]\n",
    "    for i in val:\n",
    "        if i>m:\n",
    "            m=i\n",
    "    return (m)\n",
    "\n",
    "find_max(values)"
   ]
  },
  {
   "cell_type": "markdown",
   "metadata": {},
   "source": [
    "6. Write a program that accepts a comma separated sequence of words as input and prints the words in a comma-separated sequence after sorting them alphabetically. Suppose the following input is supplied to the program:  without,hello,bag,world Then, the output should be: bag,hello,without,world"
   ]
  },
  {
   "cell_type": "code",
   "execution_count": 51,
   "metadata": {},
   "outputs": [
    {
     "name": "stdout",
     "output_type": "stream",
     "text": [
      "Alaska,Chiken,c,re\n"
     ]
    }
   ],
   "source": [
    "items=[x for x in str('Chiken,Alaska,re,c').split(',')]\n",
    "items.sort()\n",
    "print (','.join(items))"
   ]
  },
  {
   "cell_type": "markdown",
   "metadata": {},
   "source": [
    "Utilize a while loop with a break statement if a condition is met"
   ]
  },
  {
   "cell_type": "code",
   "execution_count": 38,
   "metadata": {},
   "outputs": [
    {
     "name": "stdout",
     "output_type": "stream",
     "text": [
      "4\n",
      "3\n",
      "Ended\n"
     ]
    }
   ],
   "source": [
    "n= 5 \n",
    "while n>0:\n",
    "    n-=1\n",
    "    if n ==2:\n",
    "        break\n",
    "    print(n)\n",
    "print('Ended')"
   ]
  },
  {
   "cell_type": "markdown",
   "metadata": {},
   "source": [
    "In this example, a is true as long as it has elements in it.Once all the items have been removed with the .pop() method and the list is empty, a is false, and the loop terminates"
   ]
  },
  {
   "cell_type": "code",
   "execution_count": 36,
   "metadata": {},
   "outputs": [
    {
     "name": "stdout",
     "output_type": "stream",
     "text": [
      "baz\n",
      "bar\n",
      "foo\n"
     ]
    }
   ],
   "source": [
    "a = ['foo', 'bar', 'baz'] \n",
    "while a:\n",
    "    print(a.pop(-1))"
   ]
  },
  {
   "cell_type": "markdown",
   "metadata": {},
   "source": [
    "6. Write a program that accepts sequence of lines as input and prints the lines after making all characters in the sentence capitalized.\n",
    "\n",
    "Suppose the following input is supplied to the program: Hello world Practice makes perfect Then, the output should be: HELLO WORLD\n",
    "PRACTICE MAKES PERFECT"
   ]
  },
  {
   "cell_type": "code",
   "execution_count": 17,
   "metadata": {},
   "outputs": [
    {
     "data": {
      "text/plain": [
       "'HELLO WORLD WHATS UP'"
      ]
     },
     "execution_count": 17,
     "metadata": {},
     "output_type": "execute_result"
    }
   ],
   "source": [
    "input_sentence=str('hello world whats up')\n",
    "input_sentence.upper()"
   ]
  },
  {
   "cell_type": "markdown",
   "metadata": {},
   "source": [
    "7. Write a program that accepts a sequence of whitespace separated words as input and prints the words after removing all duplicate words and sorting them alphanumerically. Suppose the following input is supplied to the program: hello world and practice makes perfect and hello world again Then, the output should be: again and hello makes perfect practice world\n"
   ]
  },
  {
   "cell_type": "code",
   "execution_count": 19,
   "metadata": {},
   "outputs": [
    {
     "name": "stdout",
     "output_type": "stream",
     "text": [
      "chicken ran the\n"
     ]
    }
   ],
   "source": [
    "s =str('the chicken ran ran')\n",
    "words = [word for word in s.split(\" \")]\n",
    "print ( \" \".join(sorted(list(set(words)))))"
   ]
  },
  {
   "cell_type": "markdown",
   "metadata": {},
   "source": [
    "8. Write a program which accepts a sequence of comma separated 4 digit binary numbers as its input and then check whether they are divisible by 5 or not. The numbers that are divisible by 5 are to be printed in a comma separated sequence.\n",
    "\n",
    "Example: 0100,0011,1010,1001\n",
    "Then the output should be:\n",
    "1010"
   ]
  },
  {
   "cell_type": "code",
   "execution_count": 95,
   "metadata": {},
   "outputs": [
    {
     "name": "stdout",
     "output_type": "stream",
     "text": [
      "1010\n"
     ]
    }
   ],
   "source": [
    "input_seq=['0100','0011','1001','1010']\n",
    "for i in (input_seq):\n",
    "    if int(i[0])!=0 and int(i) %5==0:\n",
    "        print(i)"
   ]
  },
  {
   "cell_type": "markdown",
   "metadata": {},
   "source": [
    "9. Write a program, which will find all such numbers between 1000 and 3000 (both included) such that each digit of the number is an even number. The numbers obtained should be printed in a comma-separated sequence on a single line."
   ]
  },
  {
   "cell_type": "code",
   "execution_count": 100,
   "metadata": {},
   "outputs": [
    {
     "data": {
      "text/plain": [
       "['2000', '2002', '2004', '2006', '2008']"
      ]
     },
     "execution_count": 100,
     "metadata": {},
     "output_type": "execute_result"
    }
   ],
   "source": [
    "numbs=[]\n",
    "for i in range(1000,3001):\n",
    "    i= str(i)\n",
    "    if (int(i[0])%2==0) and (int(i[1])%2==0) and (int(i[2])%2==0) and (int(i[3])%2==0):\n",
    "        numbs.append(i)\n",
    "numbs[0:5]"
   ]
  },
  {
   "cell_type": "markdown",
   "metadata": {},
   "source": [
    "10. Write a program that accepts a sentence and calculate the number of letters and digits. \n",
    "\n",
    "Suppose the following input is supplied to the program: hello world! 123\n",
    "Then, the output should be:\n",
    "LETTERS 10\n",
    "DIGITS 3"
   ]
  },
  {
   "cell_type": "code",
   "execution_count": 142,
   "metadata": {},
   "outputs": [
    {
     "name": "stdout",
     "output_type": "stream",
     "text": [
      "Num Letters = 6 Num Digits = 3\n",
      "LETTERS 6\n",
      "DIGITS 3\n"
     ]
    }
   ],
   "source": [
    "sentence=str('the yak 123')\n",
    "\n",
    "digits=[]\n",
    "lets=[]\n",
    "for i in sentence.split(\" \"):\n",
    "    if i.isdigit():\n",
    "        digits=len(i)\n",
    "    elif i.isalpha():\n",
    "        lets.append(i)\n",
    "length=[len(i) for i in lets]\n",
    "print(\"Num Letters =\", sum(length),\"Num Digits =\",digits)\n",
    "\n",
    "### alternative solution \n",
    "d={\"DIGITS\":0, \"LETTERS\":0}\n",
    "for c in sentence:\n",
    "    if c.isdigit():\n",
    "        d[\"DIGITS\"]+=1\n",
    "    elif c.isalpha():\n",
    "        d[\"LETTERS\"]+=1\n",
    "    else:\n",
    "        pass\n",
    "print (\"LETTERS\", d[\"LETTERS\"])\n",
    "print (\"DIGITS\", d[\"DIGITS\"])"
   ]
  },
  {
   "cell_type": "markdown",
   "metadata": {},
   "source": [
    "11. Write a program that computes the value of a+aa+aaa+aaaa with a given digit as the value of a. Suppose the following input is supplied to the program: 9 Then, the output should be: 11106\n"
   ]
  },
  {
   "cell_type": "code",
   "execution_count": 145,
   "metadata": {},
   "outputs": [
    {
     "name": "stdout",
     "output_type": "stream",
     "text": [
      "11106\n"
     ]
    }
   ],
   "source": [
    "a = 9\n",
    "n1 = int( \"%s\" % a )\n",
    "n2 = int( \"%s%s\" % (a,a) ) ## 99\n",
    "n3 = int( \"%s%s%s\" % (a,a,a) ) #999\n",
    "n4 = int( \"%s%s%s%s\" % (a,a,a,a) )\n",
    "print(n1+n2+n3+n4)"
   ]
  },
  {
   "cell_type": "markdown",
   "metadata": {},
   "source": [
    "Define a function that can accept two strings as input and print the string with maximum length in console. If two strings have the same length, then the function should print al l strings line by line.\n"
   ]
  },
  {
   "cell_type": "code",
   "execution_count": 73,
   "metadata": {},
   "outputs": [
    {
     "name": "stdout",
     "output_type": "stream",
     "text": [
      "chicken\n"
     ]
    }
   ],
   "source": [
    "def printValue(s1,s2):\n",
    "    len1 = len(s1)\n",
    "    len2 = len(s2)\n",
    "    if len1>len2:\n",
    "        print(s1)\n",
    "    elif len2>len1:\n",
    "        print(s2) \n",
    "    else:\n",
    "        print(s1)\n",
    "        print(s2)\n",
    "\n",
    "printValue('chicken','Hen')"
   ]
  },
  {
   "cell_type": "code",
   "execution_count": 17,
   "metadata": {},
   "outputs": [
    {
     "name": "stdout",
     "output_type": "stream",
     "text": [
      "Mustang\n"
     ]
    }
   ],
   "source": [
    "car = {\n",
    "  \"brand\": \"Ford\",\n",
    "  \"model\": \"Mustang\",\n",
    "  \"year\": 1964\n",
    "}\n",
    "\n",
    "x = car.get(\"model\")\n",
    "\n",
    "print(x)"
   ]
  },
  {
   "cell_type": "markdown",
   "metadata": {},
   "source": [
    "12. Use a list comprehension to square each odd number in a list. The list is input by a sequence of comma-separated numbers.Suppose the following input is supplied to the program: 1,2,3,4,5,6,7,8,9 Then, the output should be: 1,3,5,7,9"
   ]
  },
  {
   "cell_type": "code",
   "execution_count": 166,
   "metadata": {},
   "outputs": [
    {
     "data": {
      "text/plain": [
       "[1, 9, 25, 49, 81]"
      ]
     },
     "execution_count": 166,
     "metadata": {},
     "output_type": "execute_result"
    }
   ],
   "source": [
    "values=['1','2','3','4','5','6','7','8','9']\n",
    "numbers = [(int(x)**2) for x in values if int(x)%2!=0]\n",
    "numbers"
   ]
  },
  {
   "cell_type": "markdown",
   "metadata": {},
   "source": [
    "Write a program that computes the net amount of a bank account based a transaction log from console input. The transaction log format is shown as following:\n",
    "D 100\n",
    "W 200\n",
    "\n",
    "D means deposit while W means withdrawal.\n",
    "Suppose the following input is supplied to the program:\n",
    "D 300\n",
    "D 300\n",
    "W 200\n",
    "D 100\n",
    "Then, the output should be:\n",
    "500"
   ]
  },
  {
   "cell_type": "code",
   "execution_count": 94,
   "metadata": {},
   "outputs": [
    {
     "name": "stdout",
     "output_type": "stream",
     "text": [
      "-100\n"
     ]
    }
   ],
   "source": [
    "amount=[]\n",
    "values=str('D 100,W 200')\n",
    "for i in values.split(\",\"):\n",
    "    if \"D\" in i:\n",
    "        amount.append(int(i[2:len(i)]))\n",
    "    elif 'W' in i:\n",
    "        amount.append(int(i[2:len(i)])*-1)\n",
    "    else:\n",
    "        pass\n",
    "print(sum(amount))"
   ]
  },
  {
   "cell_type": "markdown",
   "metadata": {},
   "source": [
    "You are required to write a program to sort the (name, age, height) tuples by ascending order where name is string, age and height are numbers. The tuples are input by console. The sort criteria is:\n",
    "1: Sort based on name;\n",
    "2: Then sort based on age;\n",
    "3: Then sort by score.\n",
    "The priority is that name > age > score.\n",
    "\n",
    "If the following tuples are given as input to the program:\n",
    "\n",
    "\n",
    "Tom,19,80\n",
    "\n",
    "\n",
    "John,20,90\n",
    "\n",
    "\n",
    "Jony,17,91\n",
    "\n",
    "\n",
    "Jony,17,93\n",
    "\n",
    "\n",
    "Json,21,85\n",
    "\n",
    "\n",
    "Then, the output of the program should be:\n",
    "[('John', '20', '90'), ('Jony', '17', '91'), ('Jony', '17', '93'), ('Json', '21', '85'), ('Tom', '19', '80')]\n"
   ]
  },
  {
   "cell_type": "code",
   "execution_count": 20,
   "metadata": {},
   "outputs": [
    {
     "name": "stdout",
     "output_type": "stream",
     "text": [
      "[('John', '20', '90'), ('Jony', '17', '91'), ('Jony', '17', '93'), ('Json', '21', '85'), ('Tom', '19', '80')]\n"
     ]
    }
   ],
   "source": [
    "s = 'Tom,19,80 John,20,90 Jony,17,91 Jony,17,93 Json,21,85'\n",
    "tuplist=[tuple(x.split(\",\")) for x in s.split()] ## creating the tuple after spliting s on commas\n",
    "print(sorted(tuplist))"
   ]
  },
  {
   "cell_type": "code",
   "execution_count": 69,
   "metadata": {},
   "outputs": [
    {
     "data": {
      "text/plain": [
       "[('Tom', '19', '80'),\n",
       " ('John', '20', '90'),\n",
       " ('Jony', '17', '91'),\n",
       " ('Jony', '17', '93'),\n",
       " ('Json', '21', '85')]"
      ]
     },
     "execution_count": 69,
     "metadata": {},
     "output_type": "execute_result"
    }
   ],
   "source": [
    "[tuple(x.split(\",\")) for x in s.split()]"
   ]
  },
  {
   "cell_type": "markdown",
   "metadata": {},
   "source": [
    "A robot moves in a plane starting from the original point (0,0). The robot can move toward UP, DOWN, LEFT and RIGHT with a given steps. The trace of robot movement is shown as the following:\n",
    "\n",
    "UP 5\n",
    "DOWN 3\n",
    "LEFT 3\n",
    "RIGHT 2\n",
    "\n",
    "The numbers after the direction are steps. Please write a program to compute the distance from current position after a sequence of movement and original point. If the distance is a float, then just print the nearest integer.\n",
    "\n",
    "Example:\n",
    "If the following tuples are given as input to the program:\n",
    "\n",
    "UP 5\n",
    "DOWN 3\n",
    "LEFT 3\n",
    "RIGHT 2\n",
    "\n",
    "Then, the output of the program should be:\n",
    "2\n"
   ]
  },
  {
   "cell_type": "code",
   "execution_count": 65,
   "metadata": {},
   "outputs": [
    {
     "name": "stdout",
     "output_type": "stream",
     "text": [
      "[2, -1]\n"
     ]
    }
   ],
   "source": [
    "pos = [0,0] #start\n",
    "movement={\"UP\":\"5\",\"DOWN\":\"3\",\"LEFT\":\"3\",\"RIGHT\":\"2\"} ## assuming a dictionary input \n",
    "for i in movement.items():\n",
    "    if i[0]=='UP':\n",
    "        pos[0]+=(int(i[1]))  ##+= adding the value to current value \n",
    "    elif i[0]=='DOWN':\n",
    "        pos[0]-=(int(i[1])) ##-= subtracting the value to current value\n",
    "    elif i[0]=='LEFT':\n",
    "        pos[1]-=(int(i[1]))\n",
    "    elif i[0]=='RIGHT':\n",
    "        pos[1]+=(int(i[1]))\n",
    "print(pos)"
   ]
  },
  {
   "cell_type": "markdown",
   "metadata": {},
   "source": [
    "Define a class named Shape and its subclass Square. The Square class has an init function which takes a length as argument. Both classes have a area function which can print the area of the shape where Shape's area is 0 by default.\n"
   ]
  },
  {
   "cell_type": "code",
   "execution_count": 75,
   "metadata": {},
   "outputs": [
    {
     "name": "stdout",
     "output_type": "stream",
     "text": [
      "9\n"
     ]
    }
   ],
   "source": [
    "class Shape(object):\n",
    "    def __init__(self):\n",
    "        pass\n",
    "\n",
    "    def area(self):\n",
    "        return 0\n",
    "\n",
    "class Square(Shape):\n",
    "    def __init__(self, l):\n",
    "        Shape.__init__(self)\n",
    "        self.length = l\n",
    "\n",
    "    def area(self):\n",
    "        return self.length*self.length\n",
    "\n",
    "aSquare= Square(3)\n",
    "print (aSquare.area())"
   ]
  },
  {
   "cell_type": "markdown",
   "metadata": {},
   "source": [
    "Given a list of input numbers find 2 values than sum to desired\n",
    "\n",
    "\n",
    "For Example, [14,13,6,7,8,10,1,2] with a target 3 the result would be 1,2\n",
    "also print no valid pairs if cannot find pairs"
   ]
  },
  {
   "cell_type": "code",
   "execution_count": 68,
   "metadata": {},
   "outputs": [
    {
     "data": {
      "text/plain": [
       "{14: 1, 13: 2, 7: 8, 8: 7, 1: 14, 2: 13}"
      ]
     },
     "execution_count": 68,
     "metadata": {},
     "output_type": "execute_result"
    }
   ],
   "source": [
    "def find_values(values,target):\n",
    "    output={}\n",
    "    for i in values:\n",
    "        for j in values:\n",
    "            result=i+j\n",
    "            if result==target and i!=j:\n",
    "                output[i]=j\n",
    "    if not output:\n",
    "        print(\"no solution\")\n",
    "    return(output)\n",
    "find_values([14,13,6,7,8,10,1,2],15)"
   ]
  },
  {
   "cell_type": "code",
   "execution_count": 18,
   "metadata": {},
   "outputs": [
    {
     "name": "stdout",
     "output_type": "stream",
     "text": [
      "[7, 8]\n"
     ]
    }
   ],
   "source": [
    "def find_pairs(values,target):\n",
    "    pairs={}\n",
    "    for index, i in enumerate(values):\n",
    "        if i not in pairs: ## checking if i has not been stored in pairs if it isnt take the pairs key with target and subtract i\n",
    "            pairs[target-i]=i # setting pairs index equal to target- value in list if i not in pairs\n",
    "        else:\n",
    "            return([pairs[i],i])\n",
    "    return(\"No Valid Pairs\")\n",
    "find_pairs\n",
    "\n",
    "find_pairs([14,13,6,7,8,10,1,2],15)"
   ]
  },
  {
   "cell_type": "markdown",
   "metadata": {},
   "source": [
    "Find missing item in list difference\n",
    "\n",
    "example: given two lists find element in one list that is not in other\n"
   ]
  },
  {
   "cell_type": "code",
   "execution_count": 69,
   "metadata": {},
   "outputs": [
    {
     "name": "stdout",
     "output_type": "stream",
     "text": [
      "17\n"
     ]
    }
   ],
   "source": [
    "list1=[15,16,17,18,19]\n",
    "list2=[15,16,18,19]\n",
    "for i in list1:\n",
    "    if i not in list2:\n",
    "        print(i)"
   ]
  },
  {
   "cell_type": "markdown",
   "metadata": {},
   "source": [
    "Reverse a list without using reversed function or list indexing list[::-1]"
   ]
  },
  {
   "cell_type": "code",
   "execution_count": 117,
   "metadata": {},
   "outputs": [
    {
     "data": {
      "text/plain": [
       "[19, 18, 17, 16, 15]"
      ]
     },
     "execution_count": 117,
     "metadata": {},
     "output_type": "execute_result"
    }
   ],
   "source": [
    "list1=[15,16,17,18,19]\n",
    "values=[]\n",
    "for c in range(len(list1)):\n",
    "    length=len(list1)-1\n",
    "    values.append(list1[length-c])\n",
    "values"
   ]
  },
  {
   "cell_type": "markdown",
   "metadata": {},
   "source": [
    "Convert numbers 1-1000 to roman numerals \n",
    "I=1\n",
    "IV=4\n",
    "V=5\n",
    "IX=9\n",
    "X=10\n",
    "XI=11\n",
    "L=50\n",
    "C=100\n",
    "D=500\n",
    "M=1000\n",
    "\n",
    "ex 99 is XCIX"
   ]
  },
  {
   "cell_type": "code",
   "execution_count": 62,
   "metadata": {},
   "outputs": [
    {
     "name": "stdout",
     "output_type": "stream",
     "text": [
      "VII\n"
     ]
    }
   ],
   "source": [
    "roman = {\n",
    "    1000: 'M',\n",
    "    900: 'CM',\n",
    "    600: 'DC',\n",
    "    500: 'D',\n",
    "    400: 'CD',\n",
    "    100: 'C',\n",
    "    90: 'XC',\n",
    "    60: 'LX',\n",
    "    50: 'L',\n",
    "    40: 'XL',\n",
    "    10: 'X',\n",
    "    9: 'IX',\n",
    "    6: 'VI',\n",
    "    5: 'V',\n",
    "    4: 'IV',\n",
    "    1: 'I'\n",
    "}\n",
    "## subtraction Roman method where a smaller number in beggning is subtracted\n",
    "def rom(num):\n",
    "    value = []\n",
    "    num_sum = num\n",
    "    for i in roman: ## looking at dictionary\n",
    "        while num_sum - i >= 0: # while the number - the value in the dict is > than or = to 0\n",
    "            value.append(roman[i]) # appending the key to value while num-i >=0\n",
    "            num_sum -= i  ## subtracting the value of the dict from num_sum\n",
    "\n",
    "    print(''.join(value))  \n",
    "    \n",
    "rom(7) # for example when iterating through roman all values 7-i \n",
    "# that are greater than 0 are appended to a list with appropriate key. Then num_sum -= i subtracts that key value \n",
    "# (in the first case 6) from num_sum. Now num_sum is only 1. Thus, num_sum-i only will append the I value \n",
    "# left in the roman dict."
   ]
  },
  {
   "cell_type": "code",
   "execution_count": 92,
   "metadata": {
    "scrolled": true
   },
   "outputs": [
    {
     "name": "stdout",
     "output_type": "stream",
     "text": [
      "DCC\n"
     ]
    }
   ],
   "source": [
    "## additive roman numeral \n",
    "def romnum(number):\n",
    "    values=[]\n",
    "    j=[]\n",
    "    for i in roman:\n",
    "        while i-number<=0:\n",
    "            j.append(roman[i])\n",
    "            number-=i\n",
    "    print(''.join(j))  \n",
    "romnum(700)"
   ]
  },
  {
   "cell_type": "markdown",
   "metadata": {},
   "source": [
    "Given two strings of inputs return True if the a permutation in one contains another, that is any variation of the string \n",
    "\n",
    "For Example: it must contain ab or ba\n",
    "\n",
    "given [ab] [edghehgjkl] print False\n",
    "\n",
    "given [ab] [edghehbakl] print True"
   ]
  },
  {
   "cell_type": "code",
   "execution_count": 25,
   "metadata": {},
   "outputs": [
    {
     "data": {
      "text/plain": [
       "['gso', 'sgo', 'ogs', 'osg', 'gos', 'sog']"
      ]
     },
     "execution_count": 25,
     "metadata": {},
     "output_type": "execute_result"
    }
   ],
   "source": [
    "s1=str('gso')\n",
    "s2=str('joiesrjgfd')\n",
    "def permute(s):\n",
    "    list_of_words=[]\n",
    "    stack =[s]\n",
    "    while stack:\n",
    "        value=stack.pop(0)\n",
    "        for idx in range(len(value)):\n",
    "            remaining=value[:idx]+value[idx+1:]\n",
    "            perm=value[idx]+remaining\n",
    "            if perm not in list_of_words:\n",
    "                list_of_words.append(perm)\n",
    "                stack.append(perm)\n",
    "    return list_of_words\n",
    "\n",
    "permute(s1)"
   ]
  },
  {
   "cell_type": "code",
   "execution_count": 10,
   "metadata": {},
   "outputs": [
    {
     "name": "stdout",
     "output_type": "stream",
     "text": [
      "gso\n",
      "gos\n",
      "sgo\n",
      "sog\n",
      "osg\n",
      "ogs\n"
     ]
    }
   ],
   "source": [
    "## solution 2\n",
    "# recursive function\n",
    "def permutations(string, step = 0):\n",
    "    # if we've gotten to the end, print the permutation\n",
    "    if step == len(string):\n",
    "        print(\"\".join(string))\n",
    "    # everything to the right of step has not been swapped yet\n",
    "    for i in range(step, len(string)):\n",
    "        # copy the string (store as array)\n",
    "        string_copy = [character for character in string]\n",
    "        # swap the current index with the step\n",
    "        string_copy[step], string_copy[i] = string_copy[i], string_copy[step] # at each step swaps two positions of the string\n",
    "        # recurse on the portion of the string that has not been swapped yet (now it's index will begin with step + 1)\n",
    "        permutations(string_copy, step + 1)\n",
    "permutations(s1)"
   ]
  },
  {
   "cell_type": "markdown",
   "metadata": {},
   "source": [
    "Given an array of integers find the most common one"
   ]
  },
  {
   "cell_type": "code",
   "execution_count": 97,
   "metadata": {},
   "outputs": [
    {
     "name": "stdout",
     "output_type": "stream",
     "text": [
      "7\n"
     ]
    }
   ],
   "source": [
    "integers=[5,5,4,6,7,8,7,7,7,7,94,3]\n",
    "## 1. for each number in the integers i would start at the first integer then look at the whole list and count\n",
    "# how many times that integer comes up. Then I would move to the next unique integer then count how many times that \n",
    "# comes up for all integers in the list. Then i wold simply select the integer with the most counts \n",
    "def most_frequent(List): \n",
    "    val= {} \n",
    "    for item in List:\n",
    "        # simply populating a dictionary to store integer keys and adding one(counting) everytime we call the key\n",
    "        val[item] = val.get(item, 0) + 1\n",
    "    m_count=max(val.values())# max count of the counter \n",
    "    for num,counter in val.items(): # now seeing which number had the max count\n",
    "        if counter==m_count:\n",
    "            print(num)   \n",
    "most_frequent(integers)"
   ]
  },
  {
   "cell_type": "markdown",
   "metadata": {},
   "source": [
    "Sort a numeric list of numbers without using sorted"
   ]
  },
  {
   "cell_type": "code",
   "execution_count": 32,
   "metadata": {},
   "outputs": [
    {
     "name": "stdout",
     "output_type": "stream",
     "text": [
      "[-23, -6, -5, 0, 5, 23, 23, 67]\n",
      "[-23, -6, -5, 0, 5, 23, 23, 67]\n"
     ]
    }
   ],
   "source": [
    "# first i would start at the beinigng of the list and look through it.I would select the minimum values and \n",
    "# chose that as the first point of the list. Then i would select the maximum value and set that as the end\n",
    "# then relative to the minum value i would move each number of the list in sequence according to how many values it is\n",
    "# away from the minum with lower values moving to higher spots. \n",
    "\n",
    "def sort1(val):\n",
    "    values=val.copy() # must copy because setting it = doesnt actually change the list\n",
    "    new_list = []\n",
    "    count=len(values)\n",
    "    while count>0:\n",
    "        first_val=values[0]\n",
    "        for i in values:# if i is less than the first value then it becomes= to it\n",
    "            if i<first_val:\n",
    "                first_val=i\n",
    "        new_list.append(first_val)\n",
    "        values.remove(first_val)\n",
    "        count-=1\n",
    "    return(new_list)\n",
    "    \n",
    "print(sort1([-5, -23, 5, 0, 23, -6, 23, 67]))\n",
    "\n",
    "# second solutions\n",
    "def sort2(x):\n",
    "    values=x.copy()\n",
    "    for i in range(len(values)):\n",
    "        for j in range(i+1,len(values)):\n",
    "            if values[i]>values[j]: # if the element to the left is greater than switch them \n",
    "                values[i],values[j]=values[j],values[i]\n",
    "    return(values)\n",
    "print(sort2([-5, -23, 5, 0, 23, -6, 23, 67]))"
   ]
  },
  {
   "cell_type": "markdown",
   "metadata": {},
   "source": [
    "Given a sequence of numbers find the maximum length of consequtive seqence of numbers"
   ]
  },
  {
   "cell_type": "code",
   "execution_count": 37,
   "metadata": {},
   "outputs": [
    {
     "name": "stdout",
     "output_type": "stream",
     "text": [
      "5\n",
      "5\n",
      "5\n"
     ]
    }
   ],
   "source": [
    "## First i would look at the array and find min element, then from each min element add up values that are only 1 away\n",
    "# from each next element\n",
    "## first  i would sort the list from smallest to largest then for each value in the list collect the numbers that are \n",
    "# only 1 more than the other \n",
    "def consecutive(l):\n",
    "    m=[]\n",
    "    count=len(l)\n",
    "    while count>0:\n",
    "        first_val=l[0]\n",
    "        for i in l:\n",
    "            if i <first_val:\n",
    "                first_val=i\n",
    "        m.append(first_val)\n",
    "        l.remove(first_val)\n",
    "        count-=1\n",
    "    newlist=[m[0]]    \n",
    "    for i,j in zip(m,m[1:]):\n",
    "        if j-i==1:\n",
    "            newlist.append(j)\n",
    "    return(len(newlist))\n",
    "print(consecutive([6,5,2,99,82,3,4,14]))\n",
    "\n",
    "# alternative solution\n",
    "def longestConsecutive(nums):\n",
    "    longest_streak=0\n",
    "    for num in nums:\n",
    "        current_num=num\n",
    "        current_streak=1\n",
    "        while current_num+1 in nums:\n",
    "            current_num+=1\n",
    "            current_streak+=1\n",
    "            longest_streak=max(longest_streak,current_streak)\n",
    "    return (longest_streak)\n",
    "            \n",
    "            \n",
    "print(longestConsecutive([6,5,2,99,82,3,4,14]))\n",
    "\n",
    "# third solution\n",
    "def longestConsecutive2(nums):\n",
    "    nums.sort()\n",
    "    longest_streak = 1\n",
    "    current_streak = 1\n",
    "    for i in range(1, len(nums)):\n",
    "        if nums[i] != nums[i-1] and nums[i] == nums[i-1]+1:\n",
    "            current_streak += 1\n",
    "        else:\n",
    "            longest_streak = max(longest_streak, current_streak)\n",
    "            current_streak = 1\n",
    "\n",
    "    return max(longest_streak, current_streak)\n",
    "print(longestConsecutive2([6,5,2,99,82,3,4,14]))"
   ]
  },
  {
   "cell_type": "markdown",
   "metadata": {},
   "source": [
    "Python program to find N largest element from given list of integers "
   ]
  },
  {
   "cell_type": "code",
   "execution_count": 32,
   "metadata": {},
   "outputs": [
    {
     "name": "stdout",
     "output_type": "stream",
     "text": [
      "[99, 82, 14, 6]\n"
     ]
    }
   ],
   "source": [
    "def Nmaxelements(list1, N): \n",
    "    final_list = [] \n",
    "    for i in range(0, N):  \n",
    "        max1 = 0\n",
    "        for j in range(len(list1)):      \n",
    "            if list1[j] > max1: \n",
    "                max1 = list1[j]; \n",
    "                  \n",
    "        list1.remove(max1); \n",
    "        final_list.append(max1) \n",
    "          \n",
    "    print(final_list) \n",
    "\n",
    "Nmaxelements([6,5,2,99,82,3,4,14],4)"
   ]
  },
  {
   "cell_type": "markdown",
   "metadata": {},
   "source": [
    "Given the array candies and the integer extraCandies, where candies[i] represents the number of candies that the ith kid has. For each kid check if there is a way to distribute extraCandies among the kids such that he or she can have the greatest number of candies among them. Notice that multiple kids can have the greatest number of candies."
   ]
  },
  {
   "cell_type": "code",
   "execution_count": 59,
   "metadata": {},
   "outputs": [
    {
     "data": {
      "text/plain": [
       "[True, True, True, False, True]"
      ]
     },
     "execution_count": 59,
     "metadata": {},
     "output_type": "execute_result"
    }
   ],
   "source": [
    "def kidsWithCandies(candies, extraCandies):\n",
    "    max_candies = max(candies)\n",
    "    return [candy + extraCandies >= max_candies for candy in candies]\n",
    "candies = [2,3,5,1,3] \n",
    "extraCandies = 3\n",
    "kidsWithCandies(candies,3)"
   ]
  },
  {
   "cell_type": "markdown",
   "metadata": {},
   "source": [
    "Find uncommon words given two sentences"
   ]
  },
  {
   "cell_type": "code",
   "execution_count": 5,
   "metadata": {},
   "outputs": [
    {
     "data": {
      "text/plain": [
       "['sweet', 'sour']"
      ]
     },
     "execution_count": 5,
     "metadata": {},
     "output_type": "execute_result"
    }
   ],
   "source": [
    "a=str(\"this apple is sweet\")\n",
    "b=str(\"this apple is sour\")\n",
    "def uncommonWords(A, B):\n",
    "    ##using simple counting technique for each input\n",
    "    count={}\n",
    "    for word in A.split():\n",
    "        count[word]=count.get(word,0)+1\n",
    "    for word in B.split():\n",
    "        count[word]=count.get(word,0)+1\n",
    "    return [word for word in count if count[word]==1]\n",
    "uncommonWords(a,b)"
   ]
  },
  {
   "cell_type": "code",
   "execution_count": 15,
   "metadata": {},
   "outputs": [
    {
     "data": {
      "text/plain": [
       "11"
      ]
     },
     "execution_count": 15,
     "metadata": {},
     "output_type": "execute_result"
    }
   ],
   "source": [
    "def sum67(nums):\n",
    "    ## appending to list then summing the list\n",
    "    n=[]\n",
    "    for i in nums:\n",
    "        if i!=6 and i !=7:\n",
    "            n.append(i)\n",
    "    num_total=0\n",
    "    for i in n:\n",
    "        num_total+=i\n",
    "    return(num_total)\n",
    "sum67([4,3,1,3,6,7,7,7])"
   ]
  },
  {
   "cell_type": "markdown",
   "metadata": {},
   "source": [
    "Given an integer array arr, return true if there are three consecutive odd numbers in the array. Otherwise, return false."
   ]
  },
  {
   "cell_type": "code",
   "execution_count": 37,
   "metadata": {},
   "outputs": [
    {
     "data": {
      "text/plain": [
       "True"
      ]
     },
     "execution_count": 37,
     "metadata": {},
     "output_type": "execute_result"
    }
   ],
   "source": [
    "arr = [1,2,34,3,4,5,7,23,12]\n",
    "def threeConsecutiveOdds(arr):\n",
    "    count = 0\n",
    "    for i in arr:\n",
    "        if i%2 == 1:\n",
    "            count+=1\n",
    "        else:\n",
    "            count=0\n",
    "        if count==3:\n",
    "            return True\n",
    "    return False\n",
    "threeConsecutiveOdds(arr)"
   ]
  },
  {
   "cell_type": "code",
   "execution_count": null,
   "metadata": {},
   "outputs": [],
   "source": []
  }
 ],
 "metadata": {
  "kernelspec": {
   "display_name": "Python 3",
   "language": "python",
   "name": "python3"
  },
  "language_info": {
   "codemirror_mode": {
    "name": "ipython",
    "version": 3
   },
   "file_extension": ".py",
   "mimetype": "text/x-python",
   "name": "python",
   "nbconvert_exporter": "python",
   "pygments_lexer": "ipython3",
   "version": "3.6.8"
  }
 },
 "nbformat": 4,
 "nbformat_minor": 2
}
